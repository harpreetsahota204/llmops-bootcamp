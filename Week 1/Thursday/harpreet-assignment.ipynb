{
 "cells": [
  {
   "cell_type": "markdown",
   "metadata": {},
   "source": [
    "# Questioning Barbie and Oppenheimer Through the Use of Agents\n",
    "\n",
    "In the following notebook we will build an application that queries both the Barbie and Oppenheimer movies Wikipedia pages, as well as their reviews. \n",
    "\n",
    "The main focus of this notebook is to showcase a brief introduction to Agents.\n",
    "\n",
    "## Build 🏗️\n",
    "\n",
    "There are 3 main tasks in this notebook:\n",
    "\n",
    "1. Contruct a Barbie retriever\n",
    "2. Construct an Oppenheimer retriever\n",
    "3. Combine the two and allow users to query both resources from a single input through the use of Agents\n",
    "\n",
    "## Ship 🚢\n",
    "\n",
    "Based on Tuesday's session - construct a Chainlit (or Gradio) application that allows users to interface with the application.\n",
    "\n",
    "## Share 🚀\n",
    "\n",
    "Make a social media post about your final application."
   ]
  },
  {
   "cell_type": "markdown",
   "metadata": {},
   "source": [
    "### Dependencies\n",
    "\n",
    "As always, let's start with some dependencies!"
   ]
  },
  {
   "cell_type": "code",
   "execution_count": null,
   "metadata": {},
   "outputs": [],
   "source": [
    "!pip install -q -U langchain openai"
   ]
  },
  {
   "cell_type": "code",
   "execution_count": null,
   "metadata": {},
   "outputs": [],
   "source": [
    "import getpass\n",
    "import os\n",
    "openai_api_key = getpass.getpass(\"Enter your OpenAI API Key: \")\n",
    "os.environ[\"OPENAI_API_KEY\"] = openai_api_key"
   ]
  },
  {
   "cell_type": "markdown",
   "metadata": {},
   "source": [
    "### LLM \n",
    "\n",
    "We will be leveraging OpenAI's `gpt-3.5-turbo` throughout the notebook, and we can keep it consistent throughout!"
   ]
  },
  {
   "cell_type": "code",
   "execution_count": null,
   "metadata": {},
   "outputs": [],
   "source": [
    "from langchain.chat_models import ChatOpenAI\n",
    "llm = ChatOpenAI(model=\"gpt-3.5-turbo\", temperature = 0)"
   ]
  },
  {
   "cell_type": "markdown",
   "metadata": {},
   "source": [
    "### Data Collection and Transformation\n",
    "\n",
    "We'll be leveraging the `WikipediaLoader` tool to collect information from Wikipedia. \n",
    "\n",
    "Be sure to set the `doc_content_chars_max` parameter so that you capture the *entire* Wikipedia article content."
   ]
  },
  {
   "cell_type": "code",
   "execution_count": null,
   "metadata": {},
   "outputs": [],
   "source": [
    "!pip install -q -U wikipedia"
   ]
  },
  {
   "cell_type": "code",
   "execution_count": null,
   "metadata": {},
   "outputs": [],
   "source": [
    "from langchain.document_loaders import WikipediaLoader, CSVLoader\n",
    "\n",
    "barbie_wikipedia_docs = WikipediaLoader(\n",
    "    query=\"Barbie (film)\", \n",
    "    load_max_docs= 1, \n",
    "    doc_content_chars_max= 1_000_000 \n",
    "    ).load()\n",
    "\n",
    "barbie_csv_docs = CSVLoader(\n",
    "    file_path=\"./barbie_data/barbie.csv\",\n",
    "    source_column=\"Review_Url\n",
    "    ).load()"
   ]
  },
  {
   "cell_type": "markdown",
   "metadata": {},
   "source": [
    "Since we'll be using same format source documentation separated by topic, we can save ourselves some extra effort and set up our splitters once. \n",
    "\n",
    "We're going to leverage the `RecursiveCharacterTextSplitter` again, this time paying close attention to the format our Wikipedia articles and reviews are in so we can be sure to chunk them appropritately. \n",
    "\n",
    "> HINT: You can pass a list of separators when you intialize your `RecursiveTextSplitter`! They are acted on in order of element 0 -> element len(list).\n",
    "\n",
    "RELEVANT DOCS:\n",
    "- [`RecursiveCharacterTextSplitter`](https://api.python.langchain.com/en/latest/text_splitter/langchain.text_splitter.RecursiveCharacterTextSplitter.html#langchain.text_splitter.RecursiveCharacterTextSplitter)"
   ]
  },
  {
   "cell_type": "code",
   "execution_count": null,
   "metadata": {},
   "outputs": [],
   "source": [
    "from langchain.text_splitter import RecursiveCharacterTextSplitter\n",
    "\n",
    "wikipedia_text_splitter = RecursiveCharacterTextSplitter(\n",
    "    chunk_size = 500, \n",
    "    chunk_overlap = 0,\n",
    "    length_function = len, \n",
    "    is_separator_regex= False,\n",
    "    separators = [\"\\n==\", \"\\n\", \" \"]\n",
    ")\n",
    "\n",
    "csv_text_splitter = RecursiveCharacterTextSplitter(\n",
    "    chunk_size = 1000, \n",
    "    chunk_overlap = 100, \n",
    "    length_function = len, \n",
    "    is_separator_regex= False,\n",
    "    separators = [\"\\n\", \" \"]\n",
    ")\n",
    "\n",
    "chunked_barbie_wikipedia_docs = wikipedia_text_splitter.transform_documents(barbie_wikipedia_docs)\n",
    "chunked_barbie_csv_docs = csv_text_splitter.transform_documents(barbie_csv_docs)"
   ]
  },
  {
   "cell_type": "markdown",
   "metadata": {},
   "source": [
    "#### Retrieval and Embedding Strategy\n",
    "\n",
    "We've already discussed the useful application of `CacheBackedEmbeddings`, so let's do it again!\n",
    "\n",
    "RELEVANT DOCS:\n",
    "- [`CacheBackedEmbeddings`](https://api.python.langchain.com/en/latest/embeddings/langchain.embeddings.cache.CacheBackedEmbeddings.html#langchain-embeddings-cache-cachebackedembeddings)"
   ]
  },
  {
   "cell_type": "code",
   "execution_count": null,
   "metadata": {},
   "outputs": [],
   "source": [
    "!pip install -q -U rank_bm25 tiktoken faiss-cpu"
   ]
  },
  {
   "cell_type": "code",
   "execution_count": null,
   "metadata": {},
   "outputs": [],
   "source": [
    "from langchain.retrievers import BM25Retriever, EnsembleRetriever\n",
    "from langchain.vectorstores import FAISS\n",
    "from langchain.embeddings.openai import OpenAIEmbeddings\n",
    "from langchain.embeddings import CacheBackedEmbeddings\n",
    "from langchain.storage import LocalFileStore\n",
    "\n",
    "# set up cached embeddings store\n",
    "store = LocalFileStore(\"./cache\")\n",
    "\n",
    "core_embeddings_model = OpenAIEmbeddings()\n",
    "\n",
    "embedder = CacheBackedEmbeddings.from_bytes_store(\n",
    "    core_embeddings_model,\n",
    "    store,\n",
    "    namespace=core_embeddings_model.model\n",
    ")"
   ]
  },
  {
   "cell_type": "markdown",
   "metadata": {},
   "source": [
    "We'll implement a `FAISS` vectorstore, and create a retriever from it."
   ]
  },
  {
   "cell_type": "code",
   "execution_count": 101,
   "metadata": {},
   "outputs": [],
   "source": [
    "barbie_csv_faiss_retriever = FAISS.from_documents(chunked_barbie_csv_docs, embedder).as_retriever()"
   ]
  },
  {
   "cell_type": "markdown",
   "metadata": {},
   "source": [
    "There are a number of excellent options to retrieve documents - we'll be looking at an additional example today, which is called the `EnsembleRetriever`.\n",
    "\n",
    "The method this is using is outlined in [this paper](https://plg.uwaterloo.ca/~gvcormac/cormacksigir09-rrf.pdf).\n",
    "\n",
    "The brief explanation is:\n",
    "\n",
    "1. We collect results from two different retrieval methods over the same corpus\n",
    "2. We apply a reranking algorithm to rerank our source documents to be the *most relevant* without losing specific or potentially low-ranked information rich documents\n",
    "3. We feed the top-k results into the LLM with our query as context.\n",
    "\n",
    "> HINT: Your weight list should be of type `List[float]` and the `sum(List[float])` should be `1`."
   ]
  },
  {
   "cell_type": "code",
   "execution_count": 102,
   "metadata": {},
   "outputs": [],
   "source": [
    "# set up BM25 retriever\n",
    "barbie_wikipedia_bm25_retriever = BM25Retriever.from_documents(\n",
    "    chunked_barbie_wikipedia_docs\n",
    ")\n",
    "\n",
    "barbie_wikipedia_bm25_retriever.k = 1\n",
    "\n",
    "# set up ensemble retriever\n",
    "barbie_ensemble_retriever = EnsembleRetriever(\n",
    "    retrievers=[barbie_wikipedia_bm25_retriever, barbie_csv_faiss_retriever], \n",
    "    weights= [0.5, 0.5]\n",
    ")"
   ]
  },
  {
   "cell_type": "markdown",
   "metadata": {},
   "source": [
    "#### Retrieval Agent\n",
    "\n",
    "We can create a simple conversational retrieval Agent by using the built-ins provided by LangChain!\n",
    "\n",
    "> HINT: Be sure to provide good natural language descriptions of what the tool should be used for to get the best results.\n",
    "\n",
    "RELEVANT DOCS:\n",
    "- [`create_retriever_tool`](https://api.python.langchain.com/en/latest/agents/langchain.agents.agent_toolkits.conversational_retrieval.tool.create_retriever_tool.html#langchain.agents.agent_toolkits.conversational_retrieval.tool.create_retriever_tool)"
   ]
  },
  {
   "cell_type": "code",
   "execution_count": 127,
   "metadata": {},
   "outputs": [],
   "source": [
    "from langchain.agents.agent_toolkits import create_retriever_tool\n",
    "\n",
    "barbie_wikipedia_retrieval_tool = create_retriever_tool(\n",
    "    retriever = barbie_wikipedia_bm25_retriever,\n",
    "    name = \"WikipediaSearcher\",\n",
    "    description= \"Useful for looking up facts about the Barbie movie on wikipedia\"\n",
    ")\n",
    "\n",
    "barbie_csv_retrieval_tool = create_retriever_tool(\n",
    "    retriever = barbie_csv_bm25_retriever,\n",
    "    name = \"ReviewSearcher\",\n",
    "    description = \"Useful for looking up reviews about the Barbie movie in csv files\"\n",
    ")\n",
    "\n",
    "barbie_retriever_tools = [barbie_wikipedia_retrieval_tool, barbie_csv_retrieval_tool]"
   ]
  },
  {
   "cell_type": "markdown",
   "metadata": {},
   "source": [
    "Now that we've created our tools, we can combined them into an agent!\n",
    "\n",
    "RELEVANT DOCS:\n",
    "- [`create_conversational_retrieval_agent`](https://api.python.langchain.com/en/latest/agents/langchain.agents.agent_toolkits.conversational_retrieval.openai_functions.create_conversational_retrieval_agent.html#langchain.agents.agent_toolkits.conversational_retrieval.openai_functions.create_conversational_retrieval_agent)"
   ]
  },
  {
   "cell_type": "code",
   "execution_count": 128,
   "metadata": {},
   "outputs": [],
   "source": [
    "from langchain.agents.agent_toolkits import create_conversational_retrieval_agent\n",
    "\n",
    "barbie_retriever_agent_executor = create_conversational_retrieval_agent(llm,barbie_retriever_tools, verbose=True)"
   ]
  },
  {
   "cell_type": "code",
   "execution_count": 106,
   "metadata": {},
   "outputs": [
    {
     "name": "stdout",
     "output_type": "stream",
     "text": [
      "\n",
      "\n",
      "\u001b[1m> Entering new AgentExecutor chain...\u001b[0m\n",
      "\u001b[32;1m\u001b[1;3m\n",
      "Invoking: `ReviewSearcher` with `Barbie`\n",
      "\n",
      "\n",
      "\u001b[0m\u001b[33;1m\u001b[1;3m[Document(page_content=\": 39\\nReview_Date: 23 July 2023\\nAuthor: Anurag-Shetty\\nRating: 10\\nReview_Title: A wholesome delight!\\nReview: Barbie is based on Mattel's iconic plastic dolls of the same name. Barbie(Margot Robbie) lives a very happy life in Barbie Land, along with her fellow Barbies, Ken(Ryan Gosling) & his fellow Kens. Suddenly, Barbie goes through an existential crisis that makes her question Barbie Land & the truth of her existence.\\nReview_Url: /review/rw9199947/?ref_=tt_urv\", metadata={'source': '/review/rw9199947/?ref_=tt_urv', 'row': 39})]\u001b[0m\u001b[32;1m\u001b[1;3mAccording to a review I found, the movie Barbie is described as a \"wholesome delight\" and received a rating of 10. The reviewer mentions that Barbie goes through an existential crisis that makes her question Barbie Land and the truth of her existence. This suggests that the movie explores philosophical themes related to identity and self-discovery. However, since this is just one review, it's important to note that opinions may vary among different viewers.\u001b[0m\n",
      "\n",
      "\u001b[1m> Finished chain.\u001b[0m\n"
     ]
    },
    {
     "data": {
      "text/plain": [
       "{'input': 'Did people like Barbie, or did they find it too Philosphical? If they did, can you tell me why the movie is so Philosophical?',\n",
       " 'chat_history': [HumanMessage(content='Did people like Barbie, or did they find it too Philosphical? If they did, can you tell me why the movie is so Philosophical?', additional_kwargs={}, example=False),\n",
       "  AIMessage(content='', additional_kwargs={'function_call': {'name': 'ReviewSearcher', 'arguments': '{\\n  \"__arg1\": \"Barbie\"\\n}'}}, example=False),\n",
       "  FunctionMessage(content='[Document(page_content=\": 39\\\\nReview_Date: 23 July 2023\\\\nAuthor: Anurag-Shetty\\\\nRating: 10\\\\nReview_Title: A wholesome delight!\\\\nReview: Barbie is based on Mattel\\'s iconic plastic dolls of the same name. Barbie(Margot Robbie) lives a very happy life in Barbie Land, along with her fellow Barbies, Ken(Ryan Gosling) & his fellow Kens. Suddenly, Barbie goes through an existential crisis that makes her question Barbie Land & the truth of her existence.\\\\nReview_Url: /review/rw9199947/?ref_=tt_urv\", metadata={\\'source\\': \\'/review/rw9199947/?ref_=tt_urv\\', \\'row\\': 39})]', additional_kwargs={}, name='ReviewSearcher'),\n",
       "  AIMessage(content='According to a review I found, the movie Barbie is described as a \"wholesome delight\" and received a rating of 10. The reviewer mentions that Barbie goes through an existential crisis that makes her question Barbie Land and the truth of her existence. This suggests that the movie explores philosophical themes related to identity and self-discovery. However, since this is just one review, it\\'s important to note that opinions may vary among different viewers.', additional_kwargs={}, example=False)],\n",
       " 'output': 'According to a review I found, the movie Barbie is described as a \"wholesome delight\" and received a rating of 10. The reviewer mentions that Barbie goes through an existential crisis that makes her question Barbie Land and the truth of her existence. This suggests that the movie explores philosophical themes related to identity and self-discovery. However, since this is just one review, it\\'s important to note that opinions may vary among different viewers.',\n",
       " 'intermediate_steps': [(_FunctionsAgentAction(tool='ReviewSearcher', tool_input='Barbie', log='\\nInvoking: `ReviewSearcher` with `Barbie`\\n\\n\\n', message_log=[AIMessage(content='', additional_kwargs={'function_call': {'name': 'ReviewSearcher', 'arguments': '{\\n  \"__arg1\": \"Barbie\"\\n}'}}, example=False)]),\n",
       "   [Document(page_content=\": 39\\nReview_Date: 23 July 2023\\nAuthor: Anurag-Shetty\\nRating: 10\\nReview_Title: A wholesome delight!\\nReview: Barbie is based on Mattel's iconic plastic dolls of the same name. Barbie(Margot Robbie) lives a very happy life in Barbie Land, along with her fellow Barbies, Ken(Ryan Gosling) & his fellow Kens. Suddenly, Barbie goes through an existential crisis that makes her question Barbie Land & the truth of her existence.\\nReview_Url: /review/rw9199947/?ref_=tt_urv\", metadata={'source': '/review/rw9199947/?ref_=tt_urv', 'row': 39})])]}"
      ]
     },
     "execution_count": 106,
     "metadata": {},
     "output_type": "execute_result"
    }
   ],
   "source": [
    "barbie_retriever_agent_executor({\"input\" : \"Did people like Barbie, or did they find it too Philosphical? If they did, can you tell me why the movie is so Philosophical?\"})"
   ]
  },
  {
   "cell_type": "code",
   "execution_count": 107,
   "metadata": {},
   "outputs": [
    {
     "name": "stdout",
     "output_type": "stream",
     "text": [
      "\n",
      "\n",
      "\u001b[1m> Entering new AgentExecutor chain...\u001b[0m\n",
      "\u001b[32;1m\u001b[1;3m\n",
      "Invoking: `WikipediaSearcher` with `Barbie`\n",
      "\n",
      "\n",
      "\u001b[0m\u001b[36;1m\u001b[1;3m[Document(page_content=\"Arriving at Venice Beach, Barbie punches a man for groping her, leading to her and Ken's brief arrest. Alarmed by their presence, Mattel's CEO orders their recapture. Barbie tracks down her owner, a tween girl named Sasha, who criticizes her for encouraging unrealistic beauty standards. Distraught, Barbie discovers that Gloria, a Mattel employee and Sasha's mother, inadvertently catalyzed her existential crisis after Gloria began playing with Sasha's old Barbie toys in a similar state. Mattel\", metadata={'title': 'Barbie (film)', 'summary': 'Barbie is a 2023 American fantasy comedy film directed by Greta Gerwig from a screenplay she wrote with Noah Baumbach. Based on the Barbie fashion dolls by Mattel, it is the first live-action Barbie film after numerous computer-animated films and specials. The film follows Barbie (Margot Robbie) and Ken (Ryan Gosling) on a journey of self-discovery following an existential crisis. It features an ensemble supporting cast, including America Ferrera, Kate McKinnon, Helen Mirren, Issa Rae, Simu Liu, Michael Cera, Rhea Perlman, and Will Ferrell.\\nA live-action Barbie film was announced in September 2009 by Universal Pictures with Laurence Mark producing. Development began in April 2014, when Sony Pictures acquired the film rights. Following multiple writer and director changes and the casting of Amy Schumer and later Anne Hathaway as Barbie, the rights were transferred to Warner Bros. Pictures in October 2018. Robbie was cast in 2019, after Gal Gadot turned down the role due to scheduling conflicts, and Gerwig was announced as director and co-writer with Baumbach in 2020. The rest of the cast were announced in early 2022. Filming took place primarily at Warner Bros. Studios, Leavesden, in England and on the Venice Beach Skatepark in Los Angeles from March to July 2022.\\nBarbie premiered at the Shrine Auditorium in Los Angeles on July 9, 2023, and was theatrically released in the United States on July 21 by Warner Bros. Pictures. Its simultaneous release with Universal\\'s Oppenheimer led to the \"Barbenheimer\" cultural phenomenon, which encouraged audiences to see both films as a double feature. The film received critical acclaim and has grossed $1.208 billion worldwide, becoming the second highest-grossing film of 2023, as well as the highest-grossing film of all time solely directed by a woman.', 'source': 'https://en.wikipedia.org/wiki/Barbie_(film)'})]\u001b[0m\u001b[32;1m\u001b[1;3mThe Barbie movie is a 2023 American fantasy comedy film directed by Greta Gerwig. It follows the journey of Barbie (played by Margot Robbie) and Ken (played by Ryan Gosling) as they go on a journey of self-discovery following an existential crisis. The film explores themes of identity and beauty standards. The movie received critical acclaim and has become the second highest-grossing film of 2023.\u001b[0m\n",
      "\n",
      "\u001b[1m> Finished chain.\u001b[0m\n"
     ]
    },
    {
     "data": {
      "text/plain": [
       "{'input': 'What is a very quick summary of the plot of the Barbie movie?',\n",
       " 'chat_history': [HumanMessage(content='Did people like Barbie, or did they find it too Philosphical? If they did, can you tell me why the movie is so Philosophical?', additional_kwargs={}, example=False),\n",
       "  AIMessage(content='', additional_kwargs={'function_call': {'name': 'ReviewSearcher', 'arguments': '{\\n  \"__arg1\": \"Barbie\"\\n}'}}, example=False),\n",
       "  FunctionMessage(content='[Document(page_content=\": 39\\\\nReview_Date: 23 July 2023\\\\nAuthor: Anurag-Shetty\\\\nRating: 10\\\\nReview_Title: A wholesome delight!\\\\nReview: Barbie is based on Mattel\\'s iconic plastic dolls of the same name. Barbie(Margot Robbie) lives a very happy life in Barbie Land, along with her fellow Barbies, Ken(Ryan Gosling) & his fellow Kens. Suddenly, Barbie goes through an existential crisis that makes her question Barbie Land & the truth of her existence.\\\\nReview_Url: /review/rw9199947/?ref_=tt_urv\", metadata={\\'source\\': \\'/review/rw9199947/?ref_=tt_urv\\', \\'row\\': 39})]', additional_kwargs={}, name='ReviewSearcher'),\n",
       "  AIMessage(content='According to a review I found, the movie Barbie is described as a \"wholesome delight\" and received a rating of 10. The reviewer mentions that Barbie goes through an existential crisis that makes her question Barbie Land and the truth of her existence. This suggests that the movie explores philosophical themes related to identity and self-discovery. However, since this is just one review, it\\'s important to note that opinions may vary among different viewers.', additional_kwargs={}, example=False),\n",
       "  HumanMessage(content='What is a very quick summary of the plot of the Barbie movie?', additional_kwargs={}, example=False),\n",
       "  AIMessage(content='', additional_kwargs={'function_call': {'name': 'WikipediaSearcher', 'arguments': '{\\n  \"__arg1\": \"Barbie\"\\n}'}}, example=False),\n",
       "  FunctionMessage(content='[Document(page_content=\"Arriving at Venice Beach, Barbie punches a man for groping her, leading to her and Ken\\'s brief arrest. Alarmed by their presence, Mattel\\'s CEO orders their recapture. Barbie tracks down her owner, a tween girl named Sasha, who criticizes her for encouraging unrealistic beauty standards. Distraught, Barbie discovers that Gloria, a Mattel employee and Sasha\\'s mother, inadvertently catalyzed her existential crisis after Gloria began playing with Sasha\\'s old Barbie toys in a similar state. Mattel\", metadata={\\'title\\': \\'Barbie (film)\\', \\'summary\\': \\'Barbie is a 2023 American fantasy comedy film directed by Greta Gerwig from a screenplay she wrote with Noah Baumbach. Based on the Barbie fashion dolls by Mattel, it is the first live-action Barbie film after numerous computer-animated films and specials. The film follows Barbie (Margot Robbie) and Ken (Ryan Gosling) on a journey of self-discovery following an existential crisis. It features an ensemble supporting cast, including America Ferrera, Kate McKinnon, Helen Mirren, Issa Rae, Simu Liu, Michael Cera, Rhea Perlman, and Will Ferrell.\\\\nA live-action Barbie film was announced in September 2009 by Universal Pictures with Laurence Mark producing. Development began in April 2014, when Sony Pictures acquired the film rights. Following multiple writer and director changes and the casting of Amy Schumer and later Anne Hathaway as Barbie, the rights were transferred to Warner Bros. Pictures in October 2018. Robbie was cast in 2019, after Gal Gadot turned down the role due to scheduling conflicts, and Gerwig was announced as director and co-writer with Baumbach in 2020. The rest of the cast were announced in early 2022. Filming took place primarily at Warner Bros. Studios, Leavesden, in England and on the Venice Beach Skatepark in Los Angeles from March to July 2022.\\\\nBarbie premiered at the Shrine Auditorium in Los Angeles on July 9, 2023, and was theatrically released in the United States on July 21 by Warner Bros. Pictures. Its simultaneous release with Universal\\\\\\'s Oppenheimer led to the \"Barbenheimer\" cultural phenomenon, which encouraged audiences to see both films as a double feature. The film received critical acclaim and has grossed $1.208 billion worldwide, becoming the second highest-grossing film of 2023, as well as the highest-grossing film of all time solely directed by a woman.\\', \\'source\\': \\'https://en.wikipedia.org/wiki/Barbie_(film)\\'})]', additional_kwargs={}, name='WikipediaSearcher'),\n",
       "  AIMessage(content='The Barbie movie is a 2023 American fantasy comedy film directed by Greta Gerwig. It follows the journey of Barbie (played by Margot Robbie) and Ken (played by Ryan Gosling) as they go on a journey of self-discovery following an existential crisis. The film explores themes of identity and beauty standards. The movie received critical acclaim and has become the second highest-grossing film of 2023.', additional_kwargs={}, example=False)],\n",
       " 'output': 'The Barbie movie is a 2023 American fantasy comedy film directed by Greta Gerwig. It follows the journey of Barbie (played by Margot Robbie) and Ken (played by Ryan Gosling) as they go on a journey of self-discovery following an existential crisis. The film explores themes of identity and beauty standards. The movie received critical acclaim and has become the second highest-grossing film of 2023.',\n",
       " 'intermediate_steps': [(_FunctionsAgentAction(tool='WikipediaSearcher', tool_input='Barbie', log='\\nInvoking: `WikipediaSearcher` with `Barbie`\\n\\n\\n', message_log=[AIMessage(content='', additional_kwargs={'function_call': {'name': 'WikipediaSearcher', 'arguments': '{\\n  \"__arg1\": \"Barbie\"\\n}'}}, example=False)]),\n",
       "   [Document(page_content=\"Arriving at Venice Beach, Barbie punches a man for groping her, leading to her and Ken's brief arrest. Alarmed by their presence, Mattel's CEO orders their recapture. Barbie tracks down her owner, a tween girl named Sasha, who criticizes her for encouraging unrealistic beauty standards. Distraught, Barbie discovers that Gloria, a Mattel employee and Sasha's mother, inadvertently catalyzed her existential crisis after Gloria began playing with Sasha's old Barbie toys in a similar state. Mattel\", metadata={'title': 'Barbie (film)', 'summary': 'Barbie is a 2023 American fantasy comedy film directed by Greta Gerwig from a screenplay she wrote with Noah Baumbach. Based on the Barbie fashion dolls by Mattel, it is the first live-action Barbie film after numerous computer-animated films and specials. The film follows Barbie (Margot Robbie) and Ken (Ryan Gosling) on a journey of self-discovery following an existential crisis. It features an ensemble supporting cast, including America Ferrera, Kate McKinnon, Helen Mirren, Issa Rae, Simu Liu, Michael Cera, Rhea Perlman, and Will Ferrell.\\nA live-action Barbie film was announced in September 2009 by Universal Pictures with Laurence Mark producing. Development began in April 2014, when Sony Pictures acquired the film rights. Following multiple writer and director changes and the casting of Amy Schumer and later Anne Hathaway as Barbie, the rights were transferred to Warner Bros. Pictures in October 2018. Robbie was cast in 2019, after Gal Gadot turned down the role due to scheduling conflicts, and Gerwig was announced as director and co-writer with Baumbach in 2020. The rest of the cast were announced in early 2022. Filming took place primarily at Warner Bros. Studios, Leavesden, in England and on the Venice Beach Skatepark in Los Angeles from March to July 2022.\\nBarbie premiered at the Shrine Auditorium in Los Angeles on July 9, 2023, and was theatrically released in the United States on July 21 by Warner Bros. Pictures. Its simultaneous release with Universal\\'s Oppenheimer led to the \"Barbenheimer\" cultural phenomenon, which encouraged audiences to see both films as a double feature. The film received critical acclaim and has grossed $1.208 billion worldwide, becoming the second highest-grossing film of 2023, as well as the highest-grossing film of all time solely directed by a woman.', 'source': 'https://en.wikipedia.org/wiki/Barbie_(film)'})])]}"
      ]
     },
     "execution_count": 107,
     "metadata": {},
     "output_type": "execute_result"
    }
   ],
   "source": [
    "barbie_retriever_agent_executor({\"input\" : \"What is a very quick summary of the plot of the Barbie movie?\"})"
   ]
  },
  {
   "cell_type": "markdown",
   "metadata": {},
   "source": [
    "### Oppenheimer Retrieval System\n",
    "\n",
    "We're going to repourpose some of what we created previously, but this time we'll explore a different multi-source retrieval system."
   ]
  },
  {
   "cell_type": "code",
   "execution_count": 108,
   "metadata": {},
   "outputs": [],
   "source": [
    "oppenheimer_wikipedia_docs = WikipediaLoader(\n",
    "    query = \"Oppenheimer (film)\",\n",
    "    load_max_docs = 1,\n",
    "    doc_content_chars_max = 1_000_000,\n",
    ").load()\n",
    "\n",
    "oppenheimer_csv_docs = CSVLoader(\n",
    "    file_path = \"./oppenheimer_data/oppenheimer.csv\",\n",
    "    source_column=\"Review_Url\"\n",
    ").load()"
   ]
  },
  {
   "cell_type": "code",
   "execution_count": 120,
   "metadata": {},
   "outputs": [],
   "source": [
    "#chunk up docs\n",
    "chunked_opp_wikipedia_docs = wikipedia_text_splitter.transform_documents(oppenheimer_wikipedia_docs)\n",
    "chunked_opp_csv_docss = csv_text_splitter.transform_documents(oppenheimer_csv_docs)\n"
   ]
  },
  {
   "cell_type": "code",
   "execution_count": 121,
   "metadata": {},
   "outputs": [],
   "source": [
    "#csv retriever\n",
    "opp_csv_faiss_retriever = FAISS.from_documents(chunked_opp_csv_docs, embedder).as_retriever()\n"
   ]
  },
  {
   "cell_type": "code",
   "execution_count": 122,
   "metadata": {},
   "outputs": [],
   "source": [
    "# wikipedia retriever\n",
    "\n",
    "#setup FAISS vector store\n",
    "opp_wikipedia_faiss_vector_store = FAISS.from_documents(\n",
    "    chunked_opp_wikipedia_docs, embedder\n",
    ")\n",
    "\n",
    "opp_wikipedia_faiss_retriever = opp_wikipedia_faiss_vector_store.as_retriever(search_kwargs={\"k\": 1})\n",
    "\n",
    "#setup BM25 Retriever\n",
    "opp_wikipedia_bm25_retriever = BM25Retriever.from_documents(chunked_opp_wikipedia_docs)\n",
    "\n",
    "opp_wikipedia_bm25_retriever.k = 1"
   ]
  },
  {
   "cell_type": "code",
   "execution_count": 123,
   "metadata": {},
   "outputs": [],
   "source": [
    "#ensemble retriever\n",
    "\n",
    "opp_ensemble_retriever = EnsembleRetriever(\n",
    "    retrievers=[opp_wikipedia_bm25_retriever, opp_wikipedia_faiss_retriever],\n",
    "    weights=[0.50, 0.50] # should sum to 1\n",
    ")"
   ]
  },
  {
   "cell_type": "markdown",
   "metadata": {},
   "source": [
    "#### Multi-source chain\n",
    "\n",
    "We're going to allow the LLM to decide which information is most -> least valuable.\n",
    "\n",
    "The way we'll do this is with LangChain's rather powerful \"Expression Language\"!\n",
    "\n",
    "> HINT: You can leverage [this](https://python.langchain.com/docs/use_cases/question_answering/how_to/multiple_retrieval) resource if you get stuck - but experiment with different prompts/formats."
   ]
  },
  {
   "cell_type": "code",
   "execution_count": 124,
   "metadata": {},
   "outputs": [],
   "source": [
    "from langchain.prompts import ChatPromptTemplate\n",
    "\n",
    "system_message = \"\"\"Use the information from the below two sources to answer any questions.\n",
    "\n",
    "Source 1: public user reviews about the Oppenheimer movie\n",
    "<source1>\n",
    "{source1}\n",
    "</source1>\n",
    "\n",
    "Source 2: the wikipedia page for the Oppenheimer movie including the plot summary, cast, and production information\n",
    "<source2>\n",
    "{source2}\n",
    "</source2>\n",
    "\"\"\"\n",
    "\n",
    "prompt = ChatPromptTemplate.from_messages([(\"system\", system_message), (\"human\", \"{question}\")])"
   ]
  },
  {
   "cell_type": "code",
   "execution_count": 125,
   "metadata": {},
   "outputs": [],
   "source": [
    "oppenheimer_multisource_chain = {\n",
    "    \"source1\": (lambda x: x[\"question\"]) | opp_ensemble_retriever,\n",
    "    \"source2\": (lambda x: x[\"question\"]) | opp_csv_faiss_retriever,\n",
    "    \"question\": lambda x: x[\"question\"],\n",
    "} | prompt | llm"
   ]
  },
  {
   "cell_type": "code",
   "execution_count": 126,
   "metadata": {},
   "outputs": [
    {
     "data": {
      "text/plain": [
       "AIMessage(content=\"People generally thought highly of the Oppenheimer movie. Critics praised the screenplay, performances of the cast (especially Cillian Murphy and Robert Downey Jr.), and the visuals. It was frequently cited as one of the best films of 2023. On the review aggregator website Rotten Tomatoes, 93% of 451 critics' reviews were positive, with an average rating of 8.6/10. The movie received critical acclaim, with particular praise for the cast performances, screenplay, and visuals. However, some criticism was aimed towards the writing of the female characters. Overall, the movie was considered compelling, engaging, and simple to understand, and it sparked an interest in history.\", additional_kwargs={}, example=False)"
      ]
     },
     "execution_count": 126,
     "metadata": {},
     "output_type": "execute_result"
    }
   ],
   "source": [
    "oppenheimer_multisource_chain.invoke({\"question\" : \"What did people think of the Oppenheimer movie?\"})"
   ]
  },
  {
   "cell_type": "markdown",
   "metadata": {},
   "source": [
    "# Agent Creation\n",
    "\n",
    "Now we can finally start building our Agent!\n",
    "\n",
    "The first thing we'll need to do is provide our Agent a Toolbelt. (list of tools). Much like Batman, our LLM-powered Agent can use these tools as it sees fit. \n",
    "\n",
    "While the examples we're constructing in this notebook are straightforward for brevity and simplicities sake - there is no limit to what you can build with Agents, as we'll see as we progress through the program.\n",
    "\n",
    "So, let's begin by setting up our Tools!\n",
    "\n",
    "You'll notice that we have to set up a function to allow our `OppenheimerInfo` tool to interface with the Agent - this is due to it have a specific required input. Creating custom tools is a pattern that you'll want to grow acustomed to as you use LangChain more and more."
   ]
  },
  {
   "cell_type": "code",
   "execution_count": 130,
   "metadata": {},
   "outputs": [],
   "source": [
    "from langchain.agents import Tool\n",
    "\n",
    "def query_oppenheimer(input):\n",
    "    \"\"\"This tool is useful for searching about the Oppenheimer movie on wikipedia and in csv files\"\"\"\n",
    "    return oppenheimer_multisource_chain.invoke({\"question\" : input})\n",
    "\n",
    "tools = [\n",
    "    Tool(\n",
    "        name = \"BarbieTool\",\n",
    "        func=barbie_retriever_agent_executor.invoke,\n",
    "        description=\"Useful for answering question about the Barbie movie\"\n",
    "    ),\n",
    "    Tool(\n",
    "        name = \"OppenheimerTool\",\n",
    "        func = query_oppenheimer,\n",
    "        description= \"Useful for answering question about the Oppenheimer movie\"\n",
    "    ),\n",
    "]"
   ]
  },
  {
   "cell_type": "markdown",
   "metadata": {},
   "source": [
    "Now that we've set up our Agents toolbelt, let's set up the LLM that will be powering it!\n",
    "\n",
    "I would suggest playing around with these prompts - and experiments to find what works best for you.\n",
    "\n",
    "RELEVANT DOCS:\n",
    "- [`ZeroShotAgent`](https://api.python.langchain.com/en/latest/agents/langchain.agents.mrkl.base.ZeroShotAgent.html#langchain-agents-mrkl-base-zeroshotagent)"
   ]
  },
  {
   "cell_type": "code",
   "execution_count": 131,
   "metadata": {},
   "outputs": [],
   "source": [
    "from langchain.agents import ZeroShotAgent, AgentExecutor\n",
    "\n",
    "prefix = \"\"\"Have a conversation with a human, answering the following questions as best you can. You have access to the following tools:\"\"\"\n",
    "suffix = \"\"\"Begin!\"\n",
    "\n",
    "Question: {input}\n",
    "{agent_scratchpad}\"\"\"\n",
    "\n",
    "prompt = ZeroShotAgent.create_prompt(\n",
    "    tools=tools,\n",
    "    prefix=prefix,\n",
    "    suffix=suffix,\n",
    "    input_variables=[\"input\", \"agent_scratchpad\"]\n",
    ")"
   ]
  },
  {
   "cell_type": "code",
   "execution_count": 133,
   "metadata": {},
   "outputs": [],
   "source": [
    "from langchain import LLMChain\n",
    "\n",
    "llm_chain = LLMChain(llm=llm, prompt=prompt)"
   ]
  },
  {
   "cell_type": "markdown",
   "metadata": {},
   "source": [
    "All that's left to do now is create our `ZeroShotAgent` and our `AgentExecutor`, which are the \"reasoner\" and \"actor\" halfs of the `ReAct` method of Agent implementation.\n",
    "\n",
    "Read all about the `ReAct` framework [here](https://react-lm.github.io/)"
   ]
  },
  {
   "cell_type": "code",
   "execution_count": 134,
   "metadata": {},
   "outputs": [],
   "source": [
    "barbenheimer_agent = ZeroShotAgent(\n",
    "    llm_chain=llm_chain, \n",
    "    tools=tools, \n",
    "    verbose=True)\n",
    "\n",
    "barbenheimer_agent_chain = AgentExecutor.from_agent_and_tools(\n",
    "    agent=barbenheimer_agent, \n",
    "    tools=tools, \n",
    "    verbose=True)"
   ]
  },
  {
   "cell_type": "markdown",
   "metadata": {},
   "source": [
    "## Conclusion\n",
    "\n",
    "All that is left to do now, is feed inputs to your Agent and watch it work!\n",
    "\n",
    "Remember to use the `{\"input\" : \"YOUR QUERY HERE\"}` format when prompting the Agent."
   ]
  },
  {
   "cell_type": "code",
   "execution_count": 135,
   "metadata": {},
   "outputs": [
    {
     "name": "stdout",
     "output_type": "stream",
     "text": [
      "\n",
      "\n",
      "\u001b[1m> Entering new AgentExecutor chain...\u001b[0m\n",
      "\u001b[32;1m\u001b[1;3mThought: I don't have any information about the Barbie movie, so I should use the BarbieTool to find out what people liked about it.\n",
      "Action: BarbieTool\n",
      "Action Input: \"What did people like about the Barbie movie?\"\u001b[0m\n",
      "\n",
      "\u001b[1m> Entering new AgentExecutor chain...\u001b[0m\n",
      "\u001b[32;1m\u001b[1;3m\n",
      "Invoking: `ReviewSearcher` with `Barbie movie`\n",
      "\n",
      "\n",
      "\u001b[0m\u001b[33;1m\u001b[1;3m[Document(page_content=\": 100\\nReview_Date: 19 July 2023\\nAuthor: frisoflorentinus\\nRating: 8\\nReview_Title: Unexpectedly good!\\nReview: I was be able to attend the pre premiere of this movie and I have to say this movie was unexpectetly good and this comes from a non Barbie fan. Barbie is the role Robbie was clearly born to play. Ryan Gosling and Simu Liu were incredible too and actually the whole cast of this movie shines ! Barbie is a brilliantly executed, incredibly fun, brightly colored, completely logical feminist statement that should be remembered come awards season. Ultimately, Barbie is so many things: a stereotype, a toy, an idea; a vessel of imagination; a cultural relic. But in Gerwig's trusted hands, this is Barbie like you've never seen her before.\\nReview_Url: /review/rw9199947/?ref_=tt_urv\", metadata={'source': '/review/rw9199947/?ref_=tt_urv', 'row': 100})]\u001b[0m\u001b[32;1m\u001b[1;3mOne reviewer mentioned that they attended the pre-premiere of the Barbie movie and found it unexpectedly good. They mentioned that even as a non-Barbie fan, they enjoyed the movie. The reviewer praised the performances of the cast, including Robbie, Ryan Gosling, and Simu Liu. They described the movie as a brilliantly executed, fun, brightly colored, and logical feminist statement. The reviewer also mentioned that the movie should be remembered during awards season. Overall, they felt that the movie presented Barbie in a new and refreshing way.\u001b[0m\n",
      "\n",
      "\u001b[1m> Finished chain.\u001b[0m\n",
      "\n",
      "Observation: \u001b[36;1m\u001b[1;3m{'input': 'What did people like about the Barbie movie?', 'chat_history': [HumanMessage(content='What did people like about the Barbie movie?', additional_kwargs={}, example=False), AIMessage(content='', additional_kwargs={'function_call': {'name': 'ReviewSearcher', 'arguments': '{\\n  \"__arg1\": \"Barbie movie\"\\n}'}}, example=False), FunctionMessage(content='[Document(page_content=\": 100\\\\nReview_Date: 19 July 2023\\\\nAuthor: frisoflorentinus\\\\nRating: 8\\\\nReview_Title: Unexpectedly good!\\\\nReview: I was be able to attend the pre premiere of this movie and I have to say this movie was unexpectetly good and this comes from a non Barbie fan. Barbie is the role Robbie was clearly born to play. Ryan Gosling and Simu Liu were incredible too and actually the whole cast of this movie shines ! Barbie is a brilliantly executed, incredibly fun, brightly colored, completely logical feminist statement that should be remembered come awards season. Ultimately, Barbie is so many things: a stereotype, a toy, an idea; a vessel of imagination; a cultural relic. But in Gerwig\\'s trusted hands, this is Barbie like you\\'ve never seen her before.\\\\nReview_Url: /review/rw9199947/?ref_=tt_urv\", metadata={\\'source\\': \\'/review/rw9199947/?ref_=tt_urv\\', \\'row\\': 100})]', additional_kwargs={}, name='ReviewSearcher'), AIMessage(content='One reviewer mentioned that they attended the pre-premiere of the Barbie movie and found it unexpectedly good. They mentioned that even as a non-Barbie fan, they enjoyed the movie. The reviewer praised the performances of the cast, including Robbie, Ryan Gosling, and Simu Liu. They described the movie as a brilliantly executed, fun, brightly colored, and logical feminist statement. The reviewer also mentioned that the movie should be remembered during awards season. Overall, they felt that the movie presented Barbie in a new and refreshing way.', additional_kwargs={}, example=False)], 'output': 'One reviewer mentioned that they attended the pre-premiere of the Barbie movie and found it unexpectedly good. They mentioned that even as a non-Barbie fan, they enjoyed the movie. The reviewer praised the performances of the cast, including Robbie, Ryan Gosling, and Simu Liu. They described the movie as a brilliantly executed, fun, brightly colored, and logical feminist statement. The reviewer also mentioned that the movie should be remembered during awards season. Overall, they felt that the movie presented Barbie in a new and refreshing way.', 'intermediate_steps': [(_FunctionsAgentAction(tool='ReviewSearcher', tool_input='Barbie movie', log='\\nInvoking: `ReviewSearcher` with `Barbie movie`\\n\\n\\n', message_log=[AIMessage(content='', additional_kwargs={'function_call': {'name': 'ReviewSearcher', 'arguments': '{\\n  \"__arg1\": \"Barbie movie\"\\n}'}}, example=False)]), [Document(page_content=\": 100\\nReview_Date: 19 July 2023\\nAuthor: frisoflorentinus\\nRating: 8\\nReview_Title: Unexpectedly good!\\nReview: I was be able to attend the pre premiere of this movie and I have to say this movie was unexpectetly good and this comes from a non Barbie fan. Barbie is the role Robbie was clearly born to play. Ryan Gosling and Simu Liu were incredible too and actually the whole cast of this movie shines ! Barbie is a brilliantly executed, incredibly fun, brightly colored, completely logical feminist statement that should be remembered come awards season. Ultimately, Barbie is so many things: a stereotype, a toy, an idea; a vessel of imagination; a cultural relic. But in Gerwig's trusted hands, this is Barbie like you've never seen her before.\\nReview_Url: /review/rw9199947/?ref_=tt_urv\", metadata={'source': '/review/rw9199947/?ref_=tt_urv', 'row': 100})])]}\u001b[0m\n",
      "Thought:\u001b[32;1m\u001b[1;3mBased on the observation, people liked the Barbie movie because it was unexpectedly good, even for non-Barbie fans. The performances of the cast, including Robbie, Ryan Gosling, and Simu Liu, were praised. The movie was described as a brilliantly executed, fun, brightly colored, and logical feminist statement. The reviewer also mentioned that the movie should be remembered during awards season. Overall, the movie presented Barbie in a new and refreshing way.\n",
      "\n",
      "Final Answer: People liked the Barbie movie because it was unexpectedly good, had great performances, and presented Barbie in a new and refreshing way.\u001b[0m\n",
      "\n",
      "\u001b[1m> Finished chain.\u001b[0m\n"
     ]
    },
    {
     "data": {
      "text/plain": [
       "{'input': 'What did people like about the Barbie movie?',\n",
       " 'output': 'People liked the Barbie movie because it was unexpectedly good, had great performances, and presented Barbie in a new and refreshing way.'}"
      ]
     },
     "execution_count": 135,
     "metadata": {},
     "output_type": "execute_result"
    }
   ],
   "source": [
    "barbenheimer_agent_chain.invoke({\"input\" : \"What did people like about the Barbie movie?\"})"
   ]
  },
  {
   "cell_type": "code",
   "execution_count": 136,
   "metadata": {},
   "outputs": [
    {
     "name": "stdout",
     "output_type": "stream",
     "text": [
      "\n",
      "\n",
      "\u001b[1m> Entering new AgentExecutor chain...\u001b[0m\n",
      "\u001b[32;1m\u001b[1;3mThought: I don't have any information about the Oppenheimer movie, so I should use the OppenheimerTool to find out what people liked about it.\n",
      "Action: OppenheimerTool\n",
      "Action Input: \"What did people like about the Oppenheimer movie?\"\u001b[0m\n",
      "Observation: \u001b[33;1m\u001b[1;3mcontent='People liked the screenplay, the performances of the cast (particularly those of Murphy and Downey), and the visuals of the Oppenheimer movie. They also praised its accuracy and the way it made the complicated story of J. Robert Oppenheimer compelling and easy to understand. The film received critical acclaim for its cast performances, screenplay, and visuals.' additional_kwargs={} example=False\u001b[0m\n",
      "Thought:\u001b[32;1m\u001b[1;3mI now know what people liked about the Oppenheimer movie.\n",
      "Final Answer: People liked the screenplay, the performances of the cast (particularly those of Murphy and Downey), and the visuals of the Oppenheimer movie. They also praised its accuracy and the way it made the complicated story of J. Robert Oppenheimer compelling and easy to understand. The film received critical acclaim for its cast performances, screenplay, and visuals.\u001b[0m\n",
      "\n",
      "\u001b[1m> Finished chain.\u001b[0m\n"
     ]
    },
    {
     "data": {
      "text/plain": [
       "'People liked the screenplay, the performances of the cast (particularly those of Murphy and Downey), and the visuals of the Oppenheimer movie. They also praised its accuracy and the way it made the complicated story of J. Robert Oppenheimer compelling and easy to understand. The film received critical acclaim for its cast performances, screenplay, and visuals.'"
      ]
     },
     "execution_count": 136,
     "metadata": {},
     "output_type": "execute_result"
    }
   ],
   "source": [
    "barbenheimer_agent_chain.run({\"input\" : \"What did people like about the Oppenheimer movie?\"})"
   ]
  },
  {
   "cell_type": "code",
   "execution_count": 137,
   "metadata": {},
   "outputs": [
    {
     "name": "stdout",
     "output_type": "stream",
     "text": [
      "\n",
      "\n",
      "\u001b[1m> Entering new AgentExecutor chain...\u001b[0m\n",
      "\u001b[32;1m\u001b[1;3mThought: I need to compare the themes or ideas of the Barbie and Oppenheimer movies.\n",
      "Action: BarbieTool\n",
      "Action Input: Compare themes or ideas of Barbie movie\u001b[0m\n",
      "\n",
      "\u001b[1m> Entering new AgentExecutor chain...\u001b[0m\n",
      "\u001b[32;1m\u001b[1;3m\n",
      "Invoking: `WikipediaSearcher` with `Barbie movie`\n",
      "\n",
      "\n",
      "\u001b[0m\u001b[36;1m\u001b[1;3m[Document(page_content='fictional Barbieland. While many reviews of the film interpreted this as a critique of the song, director Greta Gerwig said that she was a fan of Matchbox Twenty and \"I never put anything in a movie I don’t love.\"', metadata={'title': 'Barbie (film)', 'summary': 'Barbie is a 2023 American fantasy comedy film directed by Greta Gerwig from a screenplay she wrote with Noah Baumbach. Based on the Barbie fashion dolls by Mattel, it is the first live-action Barbie film after numerous computer-animated films and specials. The film follows Barbie (Margot Robbie) and Ken (Ryan Gosling) on a journey of self-discovery following an existential crisis. It features an ensemble supporting cast, including America Ferrera, Kate McKinnon, Helen Mirren, Issa Rae, Simu Liu, Michael Cera, Rhea Perlman, and Will Ferrell.\\nA live-action Barbie film was announced in September 2009 by Universal Pictures with Laurence Mark producing. Development began in April 2014, when Sony Pictures acquired the film rights. Following multiple writer and director changes and the casting of Amy Schumer and later Anne Hathaway as Barbie, the rights were transferred to Warner Bros. Pictures in October 2018. Robbie was cast in 2019, after Gal Gadot turned down the role due to scheduling conflicts, and Gerwig was announced as director and co-writer with Baumbach in 2020. The rest of the cast were announced in early 2022. Filming took place primarily at Warner Bros. Studios, Leavesden, in England and on the Venice Beach Skatepark in Los Angeles from March to July 2022.\\nBarbie premiered at the Shrine Auditorium in Los Angeles on July 9, 2023, and was theatrically released in the United States on July 21 by Warner Bros. Pictures. Its simultaneous release with Universal\\'s Oppenheimer led to the \"Barbenheimer\" cultural phenomenon, which encouraged audiences to see both films as a double feature. The film received critical acclaim and has grossed $1.208 billion worldwide, becoming the second highest-grossing film of 2023, as well as the highest-grossing film of all time solely directed by a woman.', 'source': 'https://en.wikipedia.org/wiki/Barbie_(film)'})]\u001b[0m\u001b[32;1m\u001b[1;3mThe Barbie movie, directed by Greta Gerwig, explores themes of self-discovery and existential crisis. The film follows Barbie (played by Margot Robbie) and Ken (played by Ryan Gosling) on a journey of self-discovery. It delves into the characters' personal growth and their search for meaning in their lives. The movie also features an ensemble supporting cast, including America Ferrera, Kate McKinnon, Helen Mirren, Issa Rae, Simu Liu, Michael Cera, Rhea Perlman, and Will Ferrell.\n",
      "\n",
      "While the specific themes and ideas of the Barbie movie are not explicitly mentioned in the available information, it can be inferred that the film aims to present Barbie in a new and refreshing way, challenging stereotypes and embracing feminist ideals. The movie is described as a brilliantly executed, fun, brightly colored, and logical feminist statement. It suggests that the film explores the concept of Barbie as more than just a toy or cultural relic, but as a vessel of imagination and an idea that can be reimagined and redefined.\n",
      "\n",
      "Overall, the Barbie movie seems to explore themes of self-discovery, personal growth, and challenging societal expectations, while presenting Barbie in a new and empowering light.\u001b[0m\n",
      "\n",
      "\u001b[1m> Finished chain.\u001b[0m\n",
      "\n",
      "Observation: \u001b[36;1m\u001b[1;3m{'input': 'Compare themes or ideas of Barbie movie', 'chat_history': [HumanMessage(content='What did people like about the Barbie movie?', additional_kwargs={}, example=False), AIMessage(content='', additional_kwargs={'function_call': {'name': 'ReviewSearcher', 'arguments': '{\\n  \"__arg1\": \"Barbie movie\"\\n}'}}, example=False), FunctionMessage(content='[Document(page_content=\": 100\\\\nReview_Date: 19 July 2023\\\\nAuthor: frisoflorentinus\\\\nRating: 8\\\\nReview_Title: Unexpectedly good!\\\\nReview: I was be able to attend the pre premiere of this movie and I have to say this movie was unexpectetly good and this comes from a non Barbie fan. Barbie is the role Robbie was clearly born to play. Ryan Gosling and Simu Liu were incredible too and actually the whole cast of this movie shines ! Barbie is a brilliantly executed, incredibly fun, brightly colored, completely logical feminist statement that should be remembered come awards season. Ultimately, Barbie is so many things: a stereotype, a toy, an idea; a vessel of imagination; a cultural relic. But in Gerwig\\'s trusted hands, this is Barbie like you\\'ve never seen her before.\\\\nReview_Url: /review/rw9199947/?ref_=tt_urv\", metadata={\\'source\\': \\'/review/rw9199947/?ref_=tt_urv\\', \\'row\\': 100})]', additional_kwargs={}, name='ReviewSearcher'), AIMessage(content='One reviewer mentioned that they attended the pre-premiere of the Barbie movie and found it unexpectedly good. They mentioned that even as a non-Barbie fan, they enjoyed the movie. The reviewer praised the performances of the cast, including Robbie, Ryan Gosling, and Simu Liu. They described the movie as a brilliantly executed, fun, brightly colored, and logical feminist statement. The reviewer also mentioned that the movie should be remembered during awards season. Overall, they felt that the movie presented Barbie in a new and refreshing way.', additional_kwargs={}, example=False), HumanMessage(content='Compare themes or ideas of Barbie movie', additional_kwargs={}, example=False), AIMessage(content='', additional_kwargs={'function_call': {'name': 'WikipediaSearcher', 'arguments': '{\\n  \"__arg1\": \"Barbie movie\"\\n}'}}, example=False), FunctionMessage(content='[Document(page_content=\\'fictional Barbieland. While many reviews of the film interpreted this as a critique of the song, director Greta Gerwig said that she was a fan of Matchbox Twenty and \"I never put anything in a movie I don’t love.\"\\', metadata={\\'title\\': \\'Barbie (film)\\', \\'summary\\': \\'Barbie is a 2023 American fantasy comedy film directed by Greta Gerwig from a screenplay she wrote with Noah Baumbach. Based on the Barbie fashion dolls by Mattel, it is the first live-action Barbie film after numerous computer-animated films and specials. The film follows Barbie (Margot Robbie) and Ken (Ryan Gosling) on a journey of self-discovery following an existential crisis. It features an ensemble supporting cast, including America Ferrera, Kate McKinnon, Helen Mirren, Issa Rae, Simu Liu, Michael Cera, Rhea Perlman, and Will Ferrell.\\\\nA live-action Barbie film was announced in September 2009 by Universal Pictures with Laurence Mark producing. Development began in April 2014, when Sony Pictures acquired the film rights. Following multiple writer and director changes and the casting of Amy Schumer and later Anne Hathaway as Barbie, the rights were transferred to Warner Bros. Pictures in October 2018. Robbie was cast in 2019, after Gal Gadot turned down the role due to scheduling conflicts, and Gerwig was announced as director and co-writer with Baumbach in 2020. The rest of the cast were announced in early 2022. Filming took place primarily at Warner Bros. Studios, Leavesden, in England and on the Venice Beach Skatepark in Los Angeles from March to July 2022.\\\\nBarbie premiered at the Shrine Auditorium in Los Angeles on July 9, 2023, and was theatrically released in the United States on July 21 by Warner Bros. Pictures. Its simultaneous release with Universal\\\\\\'s Oppenheimer led to the \"Barbenheimer\" cultural phenomenon, which encouraged audiences to see both films as a double feature. The film received critical acclaim and has grossed $1.208 billion worldwide, becoming the second highest-grossing film of 2023, as well as the highest-grossing film of all time solely directed by a woman.\\', \\'source\\': \\'https://en.wikipedia.org/wiki/Barbie_(film)\\'})]', additional_kwargs={}, name='WikipediaSearcher'), AIMessage(content=\"The Barbie movie, directed by Greta Gerwig, explores themes of self-discovery and existential crisis. The film follows Barbie (played by Margot Robbie) and Ken (played by Ryan Gosling) on a journey of self-discovery. It delves into the characters' personal growth and their search for meaning in their lives. The movie also features an ensemble supporting cast, including America Ferrera, Kate McKinnon, Helen Mirren, Issa Rae, Simu Liu, Michael Cera, Rhea Perlman, and Will Ferrell.\\n\\nWhile the specific themes and ideas of the Barbie movie are not explicitly mentioned in the available information, it can be inferred that the film aims to present Barbie in a new and refreshing way, challenging stereotypes and embracing feminist ideals. The movie is described as a brilliantly executed, fun, brightly colored, and logical feminist statement. It suggests that the film explores the concept of Barbie as more than just a toy or cultural relic, but as a vessel of imagination and an idea that can be reimagined and redefined.\\n\\nOverall, the Barbie movie seems to explore themes of self-discovery, personal growth, and challenging societal expectations, while presenting Barbie in a new and empowering light.\", additional_kwargs={}, example=False)], 'output': \"The Barbie movie, directed by Greta Gerwig, explores themes of self-discovery and existential crisis. The film follows Barbie (played by Margot Robbie) and Ken (played by Ryan Gosling) on a journey of self-discovery. It delves into the characters' personal growth and their search for meaning in their lives. The movie also features an ensemble supporting cast, including America Ferrera, Kate McKinnon, Helen Mirren, Issa Rae, Simu Liu, Michael Cera, Rhea Perlman, and Will Ferrell.\\n\\nWhile the specific themes and ideas of the Barbie movie are not explicitly mentioned in the available information, it can be inferred that the film aims to present Barbie in a new and refreshing way, challenging stereotypes and embracing feminist ideals. The movie is described as a brilliantly executed, fun, brightly colored, and logical feminist statement. It suggests that the film explores the concept of Barbie as more than just a toy or cultural relic, but as a vessel of imagination and an idea that can be reimagined and redefined.\\n\\nOverall, the Barbie movie seems to explore themes of self-discovery, personal growth, and challenging societal expectations, while presenting Barbie in a new and empowering light.\", 'intermediate_steps': [(_FunctionsAgentAction(tool='WikipediaSearcher', tool_input='Barbie movie', log='\\nInvoking: `WikipediaSearcher` with `Barbie movie`\\n\\n\\n', message_log=[AIMessage(content='', additional_kwargs={'function_call': {'name': 'WikipediaSearcher', 'arguments': '{\\n  \"__arg1\": \"Barbie movie\"\\n}'}}, example=False)]), [Document(page_content='fictional Barbieland. While many reviews of the film interpreted this as a critique of the song, director Greta Gerwig said that she was a fan of Matchbox Twenty and \"I never put anything in a movie I don’t love.\"', metadata={'title': 'Barbie (film)', 'summary': 'Barbie is a 2023 American fantasy comedy film directed by Greta Gerwig from a screenplay she wrote with Noah Baumbach. Based on the Barbie fashion dolls by Mattel, it is the first live-action Barbie film after numerous computer-animated films and specials. The film follows Barbie (Margot Robbie) and Ken (Ryan Gosling) on a journey of self-discovery following an existential crisis. It features an ensemble supporting cast, including America Ferrera, Kate McKinnon, Helen Mirren, Issa Rae, Simu Liu, Michael Cera, Rhea Perlman, and Will Ferrell.\\nA live-action Barbie film was announced in September 2009 by Universal Pictures with Laurence Mark producing. Development began in April 2014, when Sony Pictures acquired the film rights. Following multiple writer and director changes and the casting of Amy Schumer and later Anne Hathaway as Barbie, the rights were transferred to Warner Bros. Pictures in October 2018. Robbie was cast in 2019, after Gal Gadot turned down the role due to scheduling conflicts, and Gerwig was announced as director and co-writer with Baumbach in 2020. The rest of the cast were announced in early 2022. Filming took place primarily at Warner Bros. Studios, Leavesden, in England and on the Venice Beach Skatepark in Los Angeles from March to July 2022.\\nBarbie premiered at the Shrine Auditorium in Los Angeles on July 9, 2023, and was theatrically released in the United States on July 21 by Warner Bros. Pictures. Its simultaneous release with Universal\\'s Oppenheimer led to the \"Barbenheimer\" cultural phenomenon, which encouraged audiences to see both films as a double feature. The film received critical acclaim and has grossed $1.208 billion worldwide, becoming the second highest-grossing film of 2023, as well as the highest-grossing film of all time solely directed by a woman.', 'source': 'https://en.wikipedia.org/wiki/Barbie_(film)'})])]}\u001b[0m\n",
      "Thought:\u001b[32;1m\u001b[1;3mBased on the information I gathered, the Barbie movie explores themes of self-discovery, personal growth, and challenging societal expectations. It presents Barbie in a new and empowering light, challenging stereotypes and embracing feminist ideals. The movie aims to reimagine and redefine the concept of Barbie as more than just a toy or cultural relic, but as a vessel of imagination and an idea that can be reimagined and redefined.\n",
      "\n",
      "Final Answer: The Barbie movie and the Oppenheimer movie share similar themes of self-discovery and personal growth, but they explore these themes in different contexts. The Barbie movie focuses on presenting Barbie in a new and empowering light, challenging stereotypes and embracing feminist ideals, while the Oppenheimer movie explores the life and work of J. Robert Oppenheimer and the ethical implications of the development of the atomic bomb.\u001b[0m\n",
      "\n",
      "\u001b[1m> Finished chain.\u001b[0m\n"
     ]
    },
    {
     "data": {
      "text/plain": [
       "'The Barbie movie and the Oppenheimer movie share similar themes of self-discovery and personal growth, but they explore these themes in different contexts. The Barbie movie focuses on presenting Barbie in a new and empowering light, challenging stereotypes and embracing feminist ideals, while the Oppenheimer movie explores the life and work of J. Robert Oppenheimer and the ethical implications of the development of the atomic bomb.'"
      ]
     },
     "execution_count": 137,
     "metadata": {},
     "output_type": "execute_result"
    }
   ],
   "source": [
    "barbenheimer_agent_chain.run({\"input\" : \"Did the movies Barbie and Oppenheimer share similar themes or ideas?\"})"
   ]
  },
  {
   "cell_type": "markdown",
   "metadata": {},
   "source": [
    "## Next Steps\n",
    "\n",
    "It's time to build a Chainlit (or Gradio) application and host it on Hugging Face Spaces! :ship:"
   ]
  }
 ],
 "metadata": {
  "kernelspec": {
   "display_name": "barbenheimer-week-1",
   "language": "python",
   "name": "python3"
  },
  "language_info": {
   "codemirror_mode": {
    "name": "ipython",
    "version": 3
   },
   "file_extension": ".py",
   "mimetype": "text/x-python",
   "name": "python",
   "nbconvert_exporter": "python",
   "pygments_lexer": "ipython3",
   "version": "3.11.4"
  },
  "orig_nbformat": 4
 },
 "nbformat": 4,
 "nbformat_minor": 2
}
